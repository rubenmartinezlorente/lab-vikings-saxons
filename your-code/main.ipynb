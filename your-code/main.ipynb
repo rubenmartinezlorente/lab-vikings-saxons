{
 "cells": [
  {
   "cell_type": "markdown",
   "metadata": {},
   "source": [
    "# Lab | Classes: Vikings vs Saxons\n",
    "\n",
    "The Vikings and Saxons are at war. The moment to fight has come!"
   ]
  },
  {
   "cell_type": "markdown",
   "metadata": {},
   "source": [
    "<div style=\"text-align:center\">\n",
    "  <img src=\"https://media.giphy.com/media/3o7qDLwhxkGTMvDHws/giphy.gif\" width=400px>\n",
    "</div>"
   ]
  },
  {
   "cell_type": "markdown",
   "metadata": {},
   "source": [
    "### Import module\n",
    "To go to war, you need brave soldiers. \n",
    "\n",
    "**Import `soldiers` from module `battle`. Use `bs` as an alias for your import. You'll also need module `random`. Import both of them in the cell below.**"
   ]
  },
  {
   "cell_type": "code",
   "execution_count": 1,
   "metadata": {},
   "outputs": [],
   "source": [
    "# your code here\n",
    "import random \n",
    "\n",
    "from battle import soldiers as bs"
   ]
  },
  {
   "cell_type": "markdown",
   "metadata": {},
   "source": [
    "Now, follow the instructions to create a simulation of the war.\n",
    "\n",
    "### Define functions\n",
    "\n",
    "**Create two empty lists called `viking_army` and `saxon_army`.**\n",
    "\n",
    "These lists will store the soldiers of each army. "
   ]
  },
  {
   "cell_type": "code",
   "execution_count": 2,
   "metadata": {},
   "outputs": [],
   "source": [
    "# your code here\n",
    "viking_army = []\n",
    "saxon_army = []"
   ]
  },
  {
   "cell_type": "markdown",
   "metadata": {},
   "source": [
    "**Define two functions called `add_viking` and `add_saxon`.** \n",
    "\n",
    "These functions will add soldiers to each army. The requirements that `add_viking` and `add_saxon` must meet are:\n",
    "\n",
    "* **add_viking**\n",
    "    - Must receive a `Viking` object as an argument.\n",
    "    - Must add the `Viking` to the `viking_army`. \n",
    "    \n",
    "* **add_saxon**\n",
    "    - Must receive a `Saxon` object as an argument.\n",
    "    - Must add the `Saxon` to the `saxon_army`. "
   ]
  },
  {
   "cell_type": "code",
   "execution_count": 3,
   "metadata": {},
   "outputs": [],
   "source": [
    "# your code here\n",
    "\n",
    "def add_viking(Viking):\n",
    "    viking_army.append(Viking)\n",
    "    \n",
    "def add_saxon(Saxon):\n",
    "    saxon_army.append(Saxon)\n"
   ]
  },
  {
   "cell_type": "markdown",
   "metadata": {},
   "source": [
    "**Define two functions called `viking_attack` and `saxon_attack`.** \n",
    "\n",
    "These functions will choose one random soldier to attack one random soldier of the opposite army. The requirements that `viking_attack` and `saxon_attack` must meet are:\n",
    "\n",
    "* **viking_attack**\n",
    "    - Must choose a `Viking` object from the `viking_army` at random.\n",
    "    - Must choose a `Saxon` object from the `saxon_army` at random. \n",
    "    - Must make the `Saxon` receive damage equal to the `strength` of the `Viking`. \n",
    "    - Must remove the `Saxon` from the army if he or she dies.\n",
    "    - Must return the result of calling the `receive_damage` method of the `Saxon`. \n",
    "    \n",
    "* **saxon_attack**\n",
    "    - Must choose a `Viking` object from the `viking_army` at random.\n",
    "    - Must choose a `Saxon` object from the `saxon_army` at random. \n",
    "    - Must make the `Viking` receive damage equal to the `strength` of the `Saxon`. \n",
    "    - Must remove the `Viking` from the army if he or she dies.\n",
    "    - Must return the result of calling the `receive_damage` method of the `Viking`."
   ]
  },
  {
   "cell_type": "code",
   "execution_count": 4,
   "metadata": {},
   "outputs": [],
   "source": [
    "# your code here\n",
    "def viking_attack():\n",
    "\n",
    "    ##Must choose a `Viking` object from the `viking_army` at random.\n",
    "    vik = random.choice(viking_army)\n",
    "    \n",
    "    ##Must choose a `Saxon` object from the `saxon_army` at random. \n",
    "    sax = random.choice(saxon_army)\n",
    "    \n",
    "    \n",
    "    ##Must make the `Saxon` receive damage equal to the `strength` of the `Viking`.\n",
    "    #damage of sax is caused by the strenght of a viking. We call all attributes because the\n",
    "    #function 'damage_received'return a print that we call later\n",
    "    \n",
    "    sax.health = sax.health - vik.strength\n",
    "    #print(sax.health)\n",
    "    \n",
    "    ##Must remove the `Saxon` from the army if he or she dies.\n",
    "    if sax.health <= 0:\n",
    "        saxon_army.remove(sax)  \n",
    "        \n",
    "    ##Must return the result of calling the `receive_damage` method of the `Saxon`\n",
    "    sax.receive_damage(vik.attack()) \n",
    "    \n",
    "\n",
    "def saxon_attack():\n",
    "    ##Must choose a `Viking` object from the `viking_army` at random.\n",
    "    vik = random.choice(viking_army)\n",
    "    \n",
    "    ##Must choose a `Saxon` object from the `saxon_army` at random. \n",
    "    sax = random.choice(saxon_army)\n",
    "    \n",
    "    ##Must make the `Viking` receive damage equal to the `strength` of the `Saxon`. \n",
    "    vik.health = vik.health - sax.strength\n",
    "    \n",
    "    ##Must remove the `Viking` from the army if he or she dies.\n",
    "    if vik.health <= 0:\n",
    "        viking_army.remove(vik)  \n",
    "        \n",
    "    ##Must return the result of calling the `receive_damage` method of the `Viking`.\n",
    "    vik.receive_damage(sax.attack())\n",
    "    \n",
    "#viking_attack()\n",
    "#saxon_attack()"
   ]
  },
  {
   "cell_type": "markdown",
   "metadata": {},
   "source": [
    "**Define a function called `show_status`.**\n",
    "This function will show the current status of the war. The requirements that `show_status` must meet are:\n",
    "\n",
    "* **show_status**\n",
    "    - If the `Saxon` list is empty, must return \"Vikings live to fight another day!\"\n",
    "    - If the `Viking` list is empty, must return \"Saxons are the last ones standing! \"\n",
    "    - If there are at least one `Viking` and one `Saxon`, must return \"Vikings and Saxons are still in the thick of battle.\"\n"
   ]
  },
  {
   "cell_type": "code",
   "execution_count": 5,
   "metadata": {},
   "outputs": [],
   "source": [
    "# your code here\n",
    "import sys   \n",
    "##we import this library to implement the function 'sys.exit(1)'. \n",
    "##we want to use in order to close the program. If it is't, the program does not know what pick up\n",
    "##when the saxons or the vikings list is empty (there are no more solider to battle)\n",
    "\n",
    "def show_status():\n",
    "\n",
    "    if len(saxon_army) == 0:\n",
    "        print (\"\\nVikings live to fight another day!\\n\") \n",
    "        sys.exit(1)\n",
    "    if len(viking_army) == 0:\n",
    "        print(\"\\nSaxons are the last ones standing!\\n\")\n",
    "        sys.exit(1)\n",
    "\n",
    "    if (len(viking_army) >= 1 and len(saxon_army) >= 1):\n",
    "        print(f\"\\nVikings and Saxons are still in the thick of battle. \\n There are {len(viking_army)} vikings and {len(saxon_army)} saxons\\n\")"
   ]
  },
  {
   "cell_type": "markdown",
   "metadata": {},
   "source": [
    "### Start the battle\n",
    "\n",
    "Now you have all you need to simulate the battle. First, create the soldiers.\n",
    "\n",
    "**Create as many `Viking` instances as teachers in your class and give them the appropriate names. Remember to add them to the `viking_army`.** All vikings have 100 health points and 50 strength points."
   ]
  },
  {
   "cell_type": "code",
   "execution_count": 6,
   "metadata": {},
   "outputs": [],
   "source": [
    "# your code here\n",
    "\n",
    "viking1 = bs.Viking(100,50,'Emanuele')\n",
    "viking2 = bs.Viking(100,50,'Eva')\n",
    "viking3 = bs.Viking(100,50,'Nacho')\n",
    "viking4 = bs.Viking(100,50,'Aleksey')\n",
    "\n",
    "viking_army = [viking1, viking2, viking3, viking4]"
   ]
  },
  {
   "cell_type": "markdown",
   "metadata": {},
   "source": [
    "**Create as many `Saxons` instances as students in your class. Remember to add them to the `saxon_army`.** All saxons have 100 health points and 15 strength points."
   ]
  },
  {
   "cell_type": "code",
   "execution_count": 7,
   "metadata": {},
   "outputs": [],
   "source": [
    "# your code here\n",
    "\n",
    "saxon = bs.Saxon(100,15)\n",
    "saxon_army = [saxon for i in range(14)]\n"
   ]
  },
  {
   "cell_type": "markdown",
   "metadata": {},
   "source": [
    "**Finally, write the execution of the battle.**\n",
    "You will need to create a battle loop. In each iteration:\n",
    "\n",
    "- Vikings will attack first. \n",
    "- After the attack, a message of the Saxon soldier status must be printed. \n",
    "- Saxons will attack last. \n",
    "- After the attack, a message of the Viking soldier status must be printed.\n",
    "- At the end of an iteration, a message of the status of the battle must be printed.\n",
    "\n",
    "Remember to take into account that if any of the armies lose all their soldiers, the battle needs automatically and a message of the resolution of the battle must be printed."
   ]
  },
  {
   "cell_type": "code",
   "execution_count": 8,
   "metadata": {},
   "outputs": [
    {
     "name": "stdout",
     "output_type": "stream",
     "text": [
      "how many battle is going to last this bloody war?: 10\n",
      "A Saxon has died in combat\n",
      "\n",
      "Vikings and Saxons are still in the thick of battle. \n",
      " There are 4 vikings and 14 saxons\n",
      "\n",
      "Aleksey has received 15 points of damage\n",
      "\n",
      "Vikings and Saxons are still in the thick of battle. \n",
      " There are 4 vikings and 14 saxons\n",
      "\n",
      "Let's battle a bit more. Battle # 1 done.\n",
      "\n",
      "\n",
      "\n",
      "A Saxon has died in combat\n",
      "\n",
      "Vikings and Saxons are still in the thick of battle. \n",
      " There are 4 vikings and 13 saxons\n",
      "\n",
      "Nacho has received 15 points of damage\n",
      "\n",
      "Vikings and Saxons are still in the thick of battle. \n",
      " There are 4 vikings and 13 saxons\n",
      "\n",
      "Let's battle a bit more. Battle # 2 done.\n",
      "\n",
      "\n",
      "\n",
      "A Saxon has died in combat\n",
      "\n",
      "Vikings and Saxons are still in the thick of battle. \n",
      " There are 4 vikings and 12 saxons\n",
      "\n",
      "Aleksey has received 15 points of damage\n",
      "\n",
      "Vikings and Saxons are still in the thick of battle. \n",
      " There are 4 vikings and 12 saxons\n",
      "\n",
      "Let's battle a bit more. Battle # 3 done.\n",
      "\n",
      "\n",
      "\n",
      "A Saxon has died in combat\n",
      "\n",
      "Vikings and Saxons are still in the thick of battle. \n",
      " There are 4 vikings and 11 saxons\n",
      "\n",
      "Aleksey has received 15 points of damage\n",
      "\n",
      "Vikings and Saxons are still in the thick of battle. \n",
      " There are 4 vikings and 11 saxons\n",
      "\n",
      "Let's battle a bit more. Battle # 4 done.\n",
      "\n",
      "\n",
      "\n",
      "A Saxon has died in combat\n",
      "\n",
      "Vikings and Saxons are still in the thick of battle. \n",
      " There are 4 vikings and 10 saxons\n",
      "\n",
      "Nacho has received 15 points of damage\n",
      "\n",
      "Vikings and Saxons are still in the thick of battle. \n",
      " There are 4 vikings and 10 saxons\n",
      "\n",
      "Let's battle a bit more. Battle # 5 done.\n",
      "\n",
      "\n",
      "\n",
      "A Saxon has died in combat\n",
      "\n",
      "Vikings and Saxons are still in the thick of battle. \n",
      " There are 4 vikings and 9 saxons\n",
      "\n",
      "Eva has received 15 points of damage\n",
      "\n",
      "Vikings and Saxons are still in the thick of battle. \n",
      " There are 4 vikings and 9 saxons\n",
      "\n",
      "Let's battle a bit more. Battle # 6 done.\n",
      "\n",
      "\n",
      "\n",
      "A Saxon has died in combat\n",
      "\n",
      "Vikings and Saxons are still in the thick of battle. \n",
      " There are 4 vikings and 8 saxons\n",
      "\n",
      "Aleksey has died in combat\n",
      "\n",
      "Vikings and Saxons are still in the thick of battle. \n",
      " There are 3 vikings and 8 saxons\n",
      "\n",
      "Let's battle a bit more. Battle # 7 done.\n",
      "\n",
      "\n",
      "\n",
      "A Saxon has died in combat\n",
      "\n",
      "Vikings and Saxons are still in the thick of battle. \n",
      " There are 3 vikings and 7 saxons\n",
      "\n",
      "Eva has received 15 points of damage\n",
      "\n",
      "Vikings and Saxons are still in the thick of battle. \n",
      " There are 3 vikings and 7 saxons\n",
      "\n",
      "Let's battle a bit more. Battle # 8 done.\n",
      "\n",
      "\n",
      "\n",
      "A Saxon has died in combat\n",
      "\n",
      "Vikings and Saxons are still in the thick of battle. \n",
      " There are 3 vikings and 6 saxons\n",
      "\n",
      "Emanuele has received 15 points of damage\n",
      "\n",
      "Vikings and Saxons are still in the thick of battle. \n",
      " There are 3 vikings and 6 saxons\n",
      "\n",
      "Let's battle a bit more. Battle # 9 done.\n",
      "\n",
      "\n",
      "\n",
      "A Saxon has died in combat\n",
      "\n",
      "Vikings and Saxons are still in the thick of battle. \n",
      " There are 3 vikings and 5 saxons\n",
      "\n",
      "Nacho has received 15 points of damage\n",
      "\n",
      "Vikings and Saxons are still in the thick of battle. \n",
      " There are 3 vikings and 5 saxons\n",
      "\n",
      "Let's battle a bit more. Battle # 10 done.\n",
      "\n",
      "\n",
      "\n"
     ]
    }
   ],
   "source": [
    "# your code here\n",
    "import sys\n",
    "battle = int(input('how many battle is going to last this bloody war?: '))\n",
    "\n",
    "i = 0\n",
    "\n",
    "while i < battle:\n",
    "\n",
    "    viking_attack()\n",
    "\n",
    "    show_status()\n",
    "            \n",
    "    saxon_attack()\n",
    "\n",
    "    show_status()\n",
    "    \n",
    "    i += 1\n",
    "    print(f\"Let's battle a bit more. Battle # {i} done.\\n\\n\\n\")"
   ]
  },
  {
   "cell_type": "code",
   "execution_count": 9,
   "metadata": {},
   "outputs": [
    {
     "ename": "SyntaxError",
     "evalue": "'break' outside loop (<ipython-input-9-0075b68c5c3e>, line 11)",
     "output_type": "error",
     "traceback": [
      "\u001b[0;36m  File \u001b[0;32m\"<ipython-input-9-0075b68c5c3e>\"\u001b[0;36m, line \u001b[0;32m11\u001b[0m\n\u001b[0;31mSyntaxError\u001b[0m\u001b[0;31m:\u001b[0m 'break' outside loop\n"
     ]
    }
   ],
   "source": [
    "def hola():\n",
    "    battle = int(input('how many battle is going to last this bloody war?: '))\n",
    "    i = 0\n",
    "    print(i,battle)\n",
    "    if i < battle:\n",
    "        print('hola')\n",
    "hola()\n",
    "break"
   ]
  },
  {
   "cell_type": "code",
   "execution_count": null,
   "metadata": {},
   "outputs": [],
   "source": []
  }
 ],
 "metadata": {
  "file_extension": ".py",
  "kernelspec": {
   "display_name": "Python 3",
   "language": "python",
   "name": "python3"
  },
  "language_info": {
   "codemirror_mode": {
    "name": "ipython",
    "version": 3
   },
   "file_extension": ".py",
   "mimetype": "text/x-python",
   "name": "python",
   "nbconvert_exporter": "python",
   "pygments_lexer": "ipython3",
   "version": "3.7.3"
  },
  "mimetype": "text/x-python",
  "name": "python",
  "npconvert_exporter": "python",
  "pygments_lexer": "ipython3",
  "version": 3
 },
 "nbformat": 4,
 "nbformat_minor": 2
}
